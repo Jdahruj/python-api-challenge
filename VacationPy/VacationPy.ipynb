{
 "cells": [
  {
   "cell_type": "markdown",
   "metadata": {},
   "source": [
    "# VacationPy\n",
    "----\n",
    "\n",
    "#### Note\n",
    "* Instructions have been included for each segment. You do not have to follow them exactly, but they are included to help you think through the steps."
   ]
  },
  {
   "cell_type": "code",
   "execution_count": 169,
   "metadata": {},
   "outputs": [],
   "source": [
    "# Dependencies and Setup\n",
    "import matplotlib.pyplot as plt\n",
    "import pandas as pd\n",
    "import numpy as np\n",
    "import requests\n",
    "import gmaps\n",
    "import os\n",
    "import json\n",
    "\n",
    "# Import API key\n",
    "from api_keys import g_key"
   ]
  },
  {
   "cell_type": "markdown",
   "metadata": {},
   "source": [
    "### Store Part I results into DataFrame\n",
    "* Load the csv exported in Part I to a DataFrame"
   ]
  },
  {
   "cell_type": "code",
   "execution_count": 170,
   "metadata": {},
   "outputs": [
    {
     "output_type": "execute_result",
     "data": {
      "text/plain": "   City_ID       City  Cloudiness Country        Date  Humidity    Lat  \\\n0        0  ostrovnoy           2      RU  1558378754        72  68.05   \n1        1  mahebourg          75      MU  1558378503        74 -20.41   \n2        2    qaanaaq          25      GL  1558378755        73  77.48   \n3        3     zhuhai           0      CN  1558378755        39  40.71   \n4        4  cape town          20      ZA  1558378755        76 -33.93   \n\n      Lng  Max Temp  Wind Speed  \n0   39.51     37.50        7.16  \n1   57.70     78.80       11.41  \n2  -69.36     22.20        2.37  \n3  112.04     44.60        4.47  \n4   18.42     55.99        8.05  ",
      "text/html": "<div>\n<style scoped>\n    .dataframe tbody tr th:only-of-type {\n        vertical-align: middle;\n    }\n\n    .dataframe tbody tr th {\n        vertical-align: top;\n    }\n\n    .dataframe thead th {\n        text-align: right;\n    }\n</style>\n<table border=\"1\" class=\"dataframe\">\n  <thead>\n    <tr style=\"text-align: right;\">\n      <th></th>\n      <th>City_ID</th>\n      <th>City</th>\n      <th>Cloudiness</th>\n      <th>Country</th>\n      <th>Date</th>\n      <th>Humidity</th>\n      <th>Lat</th>\n      <th>Lng</th>\n      <th>Max Temp</th>\n      <th>Wind Speed</th>\n    </tr>\n  </thead>\n  <tbody>\n    <tr>\n      <th>0</th>\n      <td>0</td>\n      <td>ostrovnoy</td>\n      <td>2</td>\n      <td>RU</td>\n      <td>1558378754</td>\n      <td>72</td>\n      <td>68.05</td>\n      <td>39.51</td>\n      <td>37.50</td>\n      <td>7.16</td>\n    </tr>\n    <tr>\n      <th>1</th>\n      <td>1</td>\n      <td>mahebourg</td>\n      <td>75</td>\n      <td>MU</td>\n      <td>1558378503</td>\n      <td>74</td>\n      <td>-20.41</td>\n      <td>57.70</td>\n      <td>78.80</td>\n      <td>11.41</td>\n    </tr>\n    <tr>\n      <th>2</th>\n      <td>2</td>\n      <td>qaanaaq</td>\n      <td>25</td>\n      <td>GL</td>\n      <td>1558378755</td>\n      <td>73</td>\n      <td>77.48</td>\n      <td>-69.36</td>\n      <td>22.20</td>\n      <td>2.37</td>\n    </tr>\n    <tr>\n      <th>3</th>\n      <td>3</td>\n      <td>zhuhai</td>\n      <td>0</td>\n      <td>CN</td>\n      <td>1558378755</td>\n      <td>39</td>\n      <td>40.71</td>\n      <td>112.04</td>\n      <td>44.60</td>\n      <td>4.47</td>\n    </tr>\n    <tr>\n      <th>4</th>\n      <td>4</td>\n      <td>cape town</td>\n      <td>20</td>\n      <td>ZA</td>\n      <td>1558378755</td>\n      <td>76</td>\n      <td>-33.93</td>\n      <td>18.42</td>\n      <td>55.99</td>\n      <td>8.05</td>\n    </tr>\n  </tbody>\n</table>\n</div>"
     },
     "metadata": {},
     "execution_count": 170
    }
   ],
   "source": [
    "# Read csv\n",
    "city_df = pd.read_csv(\"../output_data/cities.csv\")\n",
    "city_df.head()"
   ]
  },
  {
   "cell_type": "markdown",
   "metadata": {},
   "source": [
    "### Humidity Heatmap\n",
    "* Configure gmaps.\n",
    "* Use the Lat and Lng as locations and Humidity as the weight.\n",
    "* Add Heatmap layer to map."
   ]
  },
  {
   "cell_type": "code",
   "execution_count": 171,
   "metadata": {},
   "outputs": [],
   "source": [
    "# Configure gmaps\n",
    "gmaps.configure(api_key=g_key)\n",
    "\n",
    "# Store variables for lat/lng and humidity\n",
    "lat_lng = city_df[[\"Lat\", \"Lng\"]]\n",
    "humidity = city_df[\"Humidity\"]"
   ]
  },
  {
   "cell_type": "code",
   "execution_count": 172,
   "metadata": {},
   "outputs": [
    {
     "output_type": "display_data",
     "data": {
      "text/plain": "Figure(layout=FigureLayout(height='420px'))",
      "application/vnd.jupyter.widget-view+json": {
       "version_major": 2,
       "version_minor": 0,
       "model_id": "0ed51b62554a4ad48aefdb5c09f6310b"
      }
     },
     "metadata": {}
    }
   ],
   "source": [
    "# Configure heatmap\n",
    "fig = gmaps.figure(map_type=\"HYBRID\", center = [0,0] ,zoom_level = 2)\n",
    "\n",
    "# Add heat layer\n",
    "heat_layer = gmaps.heatmap_layer(lat_lng, weights=humidity,\n",
    "                               dissipating=False, max_intensity=100,\n",
    "                               point_radius = 3)\n",
    "fig.add_layer(heat_layer)\n",
    "fig"
   ]
  },
  {
   "cell_type": "markdown",
   "metadata": {},
   "source": [
    "### Create new DataFrame fitting weather criteria\n",
    "* Narrow down the cities to fit weather conditions.\n",
    "* Drop any rows will null values."
   ]
  },
  {
   "cell_type": "code",
   "execution_count": 173,
   "metadata": {},
   "outputs": [
    {
     "output_type": "execute_result",
     "data": {
      "text/plain": "     City_ID             City  Cloudiness Country        Date  Humidity  \\\n0          1        mahebourg          75      MU  1558378503        74   \n1          5           atuona          78      PF  1558378755        76   \n2         14     constitucion           5      MX  1558378757         4   \n3         15           albany          40      US  1558378727        45   \n4         18  bambous virieux          75      MU  1558378758        74   \n..       ...              ...         ...     ...         ...       ...   \n151      530           hirara          37      JP  1558378895        67   \n152      534           marzuq          84      YE  1558378896        36   \n153      537            matam           1      SN  1558378897        14   \n154      543           yabrud           0      SY  1558378840        32   \n155      544          paraiso           5      MX  1558378898         4   \n\n       Lat     Lng  Max Temp  Wind Speed  \n0   -20.41   57.70     78.80       11.41  \n1    -9.80 -139.03     81.96       16.49  \n2    23.99 -104.67     84.20       16.11  \n3    42.65  -73.75     82.40       12.75  \n4   -20.34   57.76     78.80       11.41  \n..     ...     ...       ...         ...  \n151  24.80  125.28     75.48       26.15  \n152  14.40   46.47     79.44        6.02  \n153  15.66  -13.26    102.12       11.61  \n154  33.97   36.66     80.60        8.05  \n155  24.01 -104.61     84.20       16.11  \n\n[156 rows x 10 columns]",
      "text/html": "<div>\n<style scoped>\n    .dataframe tbody tr th:only-of-type {\n        vertical-align: middle;\n    }\n\n    .dataframe tbody tr th {\n        vertical-align: top;\n    }\n\n    .dataframe thead th {\n        text-align: right;\n    }\n</style>\n<table border=\"1\" class=\"dataframe\">\n  <thead>\n    <tr style=\"text-align: right;\">\n      <th></th>\n      <th>City_ID</th>\n      <th>City</th>\n      <th>Cloudiness</th>\n      <th>Country</th>\n      <th>Date</th>\n      <th>Humidity</th>\n      <th>Lat</th>\n      <th>Lng</th>\n      <th>Max Temp</th>\n      <th>Wind Speed</th>\n    </tr>\n  </thead>\n  <tbody>\n    <tr>\n      <th>0</th>\n      <td>1</td>\n      <td>mahebourg</td>\n      <td>75</td>\n      <td>MU</td>\n      <td>1558378503</td>\n      <td>74</td>\n      <td>-20.41</td>\n      <td>57.70</td>\n      <td>78.80</td>\n      <td>11.41</td>\n    </tr>\n    <tr>\n      <th>1</th>\n      <td>5</td>\n      <td>atuona</td>\n      <td>78</td>\n      <td>PF</td>\n      <td>1558378755</td>\n      <td>76</td>\n      <td>-9.80</td>\n      <td>-139.03</td>\n      <td>81.96</td>\n      <td>16.49</td>\n    </tr>\n    <tr>\n      <th>2</th>\n      <td>14</td>\n      <td>constitucion</td>\n      <td>5</td>\n      <td>MX</td>\n      <td>1558378757</td>\n      <td>4</td>\n      <td>23.99</td>\n      <td>-104.67</td>\n      <td>84.20</td>\n      <td>16.11</td>\n    </tr>\n    <tr>\n      <th>3</th>\n      <td>15</td>\n      <td>albany</td>\n      <td>40</td>\n      <td>US</td>\n      <td>1558378727</td>\n      <td>45</td>\n      <td>42.65</td>\n      <td>-73.75</td>\n      <td>82.40</td>\n      <td>12.75</td>\n    </tr>\n    <tr>\n      <th>4</th>\n      <td>18</td>\n      <td>bambous virieux</td>\n      <td>75</td>\n      <td>MU</td>\n      <td>1558378758</td>\n      <td>74</td>\n      <td>-20.34</td>\n      <td>57.76</td>\n      <td>78.80</td>\n      <td>11.41</td>\n    </tr>\n    <tr>\n      <th>...</th>\n      <td>...</td>\n      <td>...</td>\n      <td>...</td>\n      <td>...</td>\n      <td>...</td>\n      <td>...</td>\n      <td>...</td>\n      <td>...</td>\n      <td>...</td>\n      <td>...</td>\n    </tr>\n    <tr>\n      <th>151</th>\n      <td>530</td>\n      <td>hirara</td>\n      <td>37</td>\n      <td>JP</td>\n      <td>1558378895</td>\n      <td>67</td>\n      <td>24.80</td>\n      <td>125.28</td>\n      <td>75.48</td>\n      <td>26.15</td>\n    </tr>\n    <tr>\n      <th>152</th>\n      <td>534</td>\n      <td>marzuq</td>\n      <td>84</td>\n      <td>YE</td>\n      <td>1558378896</td>\n      <td>36</td>\n      <td>14.40</td>\n      <td>46.47</td>\n      <td>79.44</td>\n      <td>6.02</td>\n    </tr>\n    <tr>\n      <th>153</th>\n      <td>537</td>\n      <td>matam</td>\n      <td>1</td>\n      <td>SN</td>\n      <td>1558378897</td>\n      <td>14</td>\n      <td>15.66</td>\n      <td>-13.26</td>\n      <td>102.12</td>\n      <td>11.61</td>\n    </tr>\n    <tr>\n      <th>154</th>\n      <td>543</td>\n      <td>yabrud</td>\n      <td>0</td>\n      <td>SY</td>\n      <td>1558378840</td>\n      <td>32</td>\n      <td>33.97</td>\n      <td>36.66</td>\n      <td>80.60</td>\n      <td>8.05</td>\n    </tr>\n    <tr>\n      <th>155</th>\n      <td>544</td>\n      <td>paraiso</td>\n      <td>5</td>\n      <td>MX</td>\n      <td>1558378898</td>\n      <td>4</td>\n      <td>24.01</td>\n      <td>-104.61</td>\n      <td>84.20</td>\n      <td>16.11</td>\n    </tr>\n  </tbody>\n</table>\n<p>156 rows × 10 columns</p>\n</div>"
     },
     "metadata": {},
     "execution_count": 173
    }
   ],
   "source": [
    "# Create dataframe with ideal cities\n",
    "ideal_df = pd.DataFrame(city_df.loc[(city_df[\"Max Temp\"] >= 72) & (city_df[\"Humidity\"] < 80)]).dropna().reset_index(drop=True)\n",
    "\n",
    "ideal_df"
   ]
  },
  {
   "cell_type": "markdown",
   "metadata": {},
   "source": [
    "### Hotel Map\n",
    "* Store into variable named `hotel_df`.\n",
    "* Add a \"Hotel Name\" column to the DataFrame.\n",
    "* Set parameters to search for hotels with 5000 meters.\n",
    "* Hit the Google Places API for each city's coordinates.\n",
    "* Store the first Hotel result into the DataFrame.\n",
    "* Plot markers on top of the heatmap."
   ]
  },
  {
   "cell_type": "code",
   "execution_count": 174,
   "metadata": {},
   "outputs": [
    {
     "output_type": "execute_result",
     "data": {
      "text/plain": "                City Country    Lat     Lng Hotel Name\n0          mahebourg      MU -20.41   57.70           \n1             atuona      PF  -9.80 -139.03           \n2       constitucion      MX  23.99 -104.67           \n3             albany      US  42.65  -73.75           \n4    bambous virieux      MU -20.34   57.76           \n..               ...     ...    ...     ...        ...\n151           hirara      JP  24.80  125.28           \n152           marzuq      YE  14.40   46.47           \n153            matam      SN  15.66  -13.26           \n154           yabrud      SY  33.97   36.66           \n155          paraiso      MX  24.01 -104.61           \n\n[156 rows x 5 columns]",
      "text/html": "<div>\n<style scoped>\n    .dataframe tbody tr th:only-of-type {\n        vertical-align: middle;\n    }\n\n    .dataframe tbody tr th {\n        vertical-align: top;\n    }\n\n    .dataframe thead th {\n        text-align: right;\n    }\n</style>\n<table border=\"1\" class=\"dataframe\">\n  <thead>\n    <tr style=\"text-align: right;\">\n      <th></th>\n      <th>City</th>\n      <th>Country</th>\n      <th>Lat</th>\n      <th>Lng</th>\n      <th>Hotel Name</th>\n    </tr>\n  </thead>\n  <tbody>\n    <tr>\n      <th>0</th>\n      <td>mahebourg</td>\n      <td>MU</td>\n      <td>-20.41</td>\n      <td>57.70</td>\n      <td></td>\n    </tr>\n    <tr>\n      <th>1</th>\n      <td>atuona</td>\n      <td>PF</td>\n      <td>-9.80</td>\n      <td>-139.03</td>\n      <td></td>\n    </tr>\n    <tr>\n      <th>2</th>\n      <td>constitucion</td>\n      <td>MX</td>\n      <td>23.99</td>\n      <td>-104.67</td>\n      <td></td>\n    </tr>\n    <tr>\n      <th>3</th>\n      <td>albany</td>\n      <td>US</td>\n      <td>42.65</td>\n      <td>-73.75</td>\n      <td></td>\n    </tr>\n    <tr>\n      <th>4</th>\n      <td>bambous virieux</td>\n      <td>MU</td>\n      <td>-20.34</td>\n      <td>57.76</td>\n      <td></td>\n    </tr>\n    <tr>\n      <th>...</th>\n      <td>...</td>\n      <td>...</td>\n      <td>...</td>\n      <td>...</td>\n      <td>...</td>\n    </tr>\n    <tr>\n      <th>151</th>\n      <td>hirara</td>\n      <td>JP</td>\n      <td>24.80</td>\n      <td>125.28</td>\n      <td></td>\n    </tr>\n    <tr>\n      <th>152</th>\n      <td>marzuq</td>\n      <td>YE</td>\n      <td>14.40</td>\n      <td>46.47</td>\n      <td></td>\n    </tr>\n    <tr>\n      <th>153</th>\n      <td>matam</td>\n      <td>SN</td>\n      <td>15.66</td>\n      <td>-13.26</td>\n      <td></td>\n    </tr>\n    <tr>\n      <th>154</th>\n      <td>yabrud</td>\n      <td>SY</td>\n      <td>33.97</td>\n      <td>36.66</td>\n      <td></td>\n    </tr>\n    <tr>\n      <th>155</th>\n      <td>paraiso</td>\n      <td>MX</td>\n      <td>24.01</td>\n      <td>-104.61</td>\n      <td></td>\n    </tr>\n  </tbody>\n</table>\n<p>156 rows × 5 columns</p>\n</div>"
     },
     "metadata": {},
     "execution_count": 174
    }
   ],
   "source": [
    "# Create Hotel Name column\n",
    "ideal_df[\"Hotel Name\"] = \"\"\n",
    "hotel_df = ideal_df[[\"City\",\"Country\",\"Lat\",\"Lng\",\"Hotel Name\"]]\n",
    "\n",
    "hotel_df"
   ]
  },
  {
   "cell_type": "code",
   "execution_count": 175,
   "metadata": {
    "tags": [
     "outputPrepend",
     "outputPrepend",
     "outputPrepend",
     "outputPrepend",
     "outputPrepend",
     "outputPrepend",
     "outputPrepend",
     "outputPrepend",
     "outputPrepend",
     "outputPrepend",
     "outputPrepend",
     "outputPrepend",
     "outputPrepend",
     "outputPrepend",
     "outputPrepend",
     "outputPrepend",
     "outputPrepend",
     "outputPrepend",
     "outputPrepend",
     "outputPrepend",
     "outputPrepend",
     "outputPrepend",
     "outputPrepend",
     "outputPrepend",
     "outputPrepend",
     "outputPrepend",
     "outputPrepend",
     "outputPrepend",
     "outputPrepend",
     "outputPrepend",
     "outputPrepend",
     "outputPrepend",
     "outputPrepend",
     "outputPrepend",
     "outputPrepend",
     "outputPrepend",
     "outputPrepend",
     "outputPrepend",
     "outputPrepend",
     "outputPrepend",
     "outputPrepend",
     "outputPrepend",
     "outputPrepend",
     "outputPrepend",
     "outputPrepend",
     "outputPrepend",
     "outputPrepend",
     "outputPrepend",
     "outputPrepend",
     "outputPrepend",
     "outputPrepend",
     "outputPrepend",
     "outputPrepend",
     "outputPrepend",
     "outputPrepend",
     "outputPrepend",
     "outputPrepend",
     "outputPrepend",
     "outputPrepend",
     "outputPrepend",
     "outputPrepend",
     "outputPrepend",
     "outputPrepend",
     "outputPrepend",
     "outputPrepend",
     "outputPrepend",
     "outputPrepend",
     "outputPrepend",
     "outputPrepend",
     "outputPrepend",
     "outputPrepend",
     "outputPrepend",
     "outputPrepend",
     "outputPrepend",
     "outputPrepend",
     "outputPrepend",
     "outputPrepend",
     "outputPrepend",
     "outputPrepend",
     "outputPrepend",
     "outputPrepend",
     "outputPrepend",
     "outputPrepend",
     "outputPrepend",
     "outputPrepend",
     "outputPrepend",
     "outputPrepend",
     "outputPrepend",
     "outputPrepend",
     "outputPrepend",
     "outputPrepend",
     "outputPrepend",
     "outputPrepend",
     "outputPrepend",
     "outputPrepend",
     "outputPrepend",
     "outputPrepend",
     "outputPrepend",
     "outputPrepend",
     "outputPrepend",
     "outputPrepend",
     "outputPrepend",
     "outputPrepend",
     "outputPrepend",
     "outputPrepend",
     "outputPrepend",
     "outputPrepend",
     "outputPrepend",
     "outputPrepend",
     "outputPrepend",
     "outputPrepend",
     "outputPrepend",
     "outputPrepend",
     "outputPrepend",
     "outputPrepend",
     "outputPrepend",
     "outputPrepend",
     "outputPrepend",
     "outputPrepend",
     "outputPrepend",
     "outputPrepend",
     "outputPrepend",
     "outputPrepend",
     "outputPrepend",
     "outputPrepend",
     "outputPrepend",
     "outputPrepend",
     "outputPrepend",
     "outputPrepend",
     "outputPrepend",
     "outputPrepend",
     "outputPrepend",
     "outputPrepend",
     "outputPrepend",
     "outputPrepend",
     "outputPrepend",
     "outputPrepend",
     "outputPrepend",
     "outputPrepend",
     "outputPrepend",
     "outputPrepend",
     "outputPrepend",
     "outputPrepend",
     "outputPrepend",
     "outputPrepend",
     "outputPrepend",
     "outputPrepend",
     "outputPrepend",
     "outputPrepend",
     "outputPrepend",
     "outputPrepend",
     "outputPrepend",
     "outputPrepend",
     "outputPrepend",
     "outputPrepend",
     "outputPrepend"
    ]
   },
   "outputs": [
    {
     "output_type": "stream",
     "name": "stdout",
     "text": "\n            ],\n            \"place_id\": \"ChIJw4eI_lS2m4YRLzdpPzBzjdU\",\n            \"plus_code\": {\n                \"compound_code\": \"394P+63 Durango, Mexico\",\n                \"global_code\": \"75PQ394P+63\"\n            },\n            \"rating\": 4.6,\n            \"reference\": \"ChIJw4eI_lS2m4YRLzdpPzBzjdU\",\n            \"scope\": \"GOOGLE\",\n            \"types\": [\n                \"lodging\",\n                \"point_of_interest\",\n                \"establishment\"\n            ],\n            \"user_ratings_total\": 936,\n            \"vicinity\": \"Blvrd Francisco Villa 4301, Cd Industrial, 20 de Noviembre, Durango\"\n        },\n        {\n            \"geometry\": {\n                \"location\": {\n                    \"lat\": 24.0249247,\n                    \"lng\": -104.6521702\n                },\n                \"viewport\": {\n                    \"northeast\": {\n                        \"lat\": 24.02630342989272,\n                        \"lng\": -104.6508252701073\n                    },\n                    \"southwest\": {\n                        \"lat\": 24.02360377010728,\n                        \"lng\": -104.6535249298927\n                    }\n                }\n            },\n            \"icon\": \"https://maps.gstatic.com/mapfiles/place_api/icons/lodging-71.png\",\n            \"id\": \"78b86af2b8c1830c354d03d5de155d40b00c9b58\",\n            \"name\": \"Hotel Casa Ma Elena\",\n            \"opening_hours\": {\n                \"open_now\": true\n            },\n            \"photos\": [\n                {\n                    \"height\": 800,\n                    \"html_attributions\": [\n                        \"<a href=\\\"https://maps.google.com/maps/contrib/110353897704388162348\\\">Hotel Mar\\u00eda Elena</a>\"\n                    ],\n                    \"photo_reference\": \"CmRaAAAA6pbtwn-9UwDHEPV9iL_y7Ixcc-OG03LTlt0xqauFkxobVT1ip3q17Rza0-VTNT-sV2SqhthDZT7go3n9dFjGrQI9JWOUyE0Iv1EjjkL85OEeK_FTfWql-0zSGl-1csTSEhD-169DLwUJXZeSG6EVu06SGhQ5sdEJcka6TTmqo0G73iYEmtNCDw\",\n                    \"width\": 597\n                }\n            ],\n            \"place_id\": \"ChIJEWz5ROe3m4YRuussGfDTXgY\",\n            \"plus_code\": {\n                \"compound_code\": \"28FX+X4 Durango, Mexico\",\n                \"global_code\": \"75PQ28FX+X4\"\n            },\n            \"rating\": 3.7,\n            \"reference\": \"ChIJEWz5ROe3m4YRuussGfDTXgY\",\n            \"scope\": \"GOOGLE\",\n            \"types\": [\n                \"lodging\",\n                \"point_of_interest\",\n                \"establishment\"\n            ],\n            \"user_ratings_total\": 280,\n            \"vicinity\": \"Calle Pino Su\\u00e1rez 804 Oriente, Privada de Sahuaro, Durango\"\n        },\n        {\n            \"geometry\": {\n                \"location\": {\n                    \"lat\": 24.0476889,\n                    \"lng\": -104.6250117\n                },\n                \"viewport\": {\n                    \"northeast\": {\n                        \"lat\": 24.04898857989272,\n                        \"lng\": -104.6234485701073\n                    },\n                    \"southwest\": {\n                        \"lat\": 24.04628892010728,\n                        \"lng\": -104.6261482298927\n                    }\n                }\n            },\n            \"icon\": \"https://maps.gstatic.com/mapfiles/place_api/icons/lodging-71.png\",\n            \"id\": \"ae3d38cd7b5688f7b5b3c8ae644f7913d17ba7d4\",\n            \"name\": \"Hotel Victoria Express\",\n            \"photos\": [\n                {\n                    \"height\": 1960,\n                    \"html_attributions\": [\n                        \"<a href=\\\"https://maps.google.com/maps/contrib/111241717822500116963\\\">Ricardo Moller</a>\"\n                    ],\n                    \"photo_reference\": \"CmRaAAAAR4r0GTeFHwFL4e4NFV89IKXnWYQOZdH9R-4eqer-Wzb__prmlSidnVTVbiVh-H2Eznip31qN4Ys8RB60gI9CJ5O0Athyvp67kmJGOTL33xwTKnLpvlF1c9EI1ACGwq9UEhDMiOZJgriR1uI6PNUumss3GhQqow4UEK-uozfOzBNd8IP0HhcUAQ\",\n                    \"width\": 4032\n                }\n            ],\n            \"place_id\": \"ChIJ50xvbLK3m4YR86l4vzXBIyo\",\n            \"plus_code\": {\n                \"compound_code\": \"29XF+3X Durango, Mexico\",\n                \"global_code\": \"75PQ29XF+3X\"\n            },\n            \"rating\": 4.5,\n            \"reference\": \"ChIJ50xvbLK3m4YR86l4vzXBIyo\",\n            \"scope\": \"GOOGLE\",\n            \"types\": [\n                \"lodging\",\n                \"point_of_interest\",\n                \"establishment\"\n            ],\n            \"user_ratings_total\": 1599,\n            \"vicinity\": \"Blvrd Francisco Villa 2017, Cd Industrial, Predio Tayafe, Durango\"\n        },\n        {\n            \"geometry\": {\n                \"location\": {\n                    \"lat\": 24.0538382,\n                    \"lng\": -104.6278526\n                },\n                \"viewport\": {\n                    \"northeast\": {\n                        \"lat\": 24.05519712989272,\n                        \"lng\": -104.6264835701073\n                    },\n                    \"southwest\": {\n                        \"lat\": 24.05249747010728,\n                        \"lng\": -104.6291832298927\n                    }\n                }\n            },\n            \"icon\": \"https://maps.gstatic.com/mapfiles/place_api/icons/lodging-71.png\",\n            \"id\": \"f536b105d52b6c3aadef3387f024f209d7e16f23\",\n            \"name\": \"Hotel Villa Express\",\n            \"opening_hours\": {\n                \"open_now\": true\n            },\n            \"photos\": [\n                {\n                    \"height\": 534,\n                    \"html_attributions\": [\n                        \"<a href=\\\"https://maps.google.com/maps/contrib/100429060094389697757\\\">A Google User</a>\"\n                    ],\n                    \"photo_reference\": \"CmRaAAAAgUvZUx47lOKBa2ZZj7Qcgu8aP62HSg_tCqwZYx2R3AOtSFRiBov-svsnd1HPK_nTTGoK7MdqmoTM2cyHPR6ym5nmILzgh3wxhYR0ZAu3AvgEgppHQRq_k4uT8uWaXQKgEhDaSlzBjB4pMwf55zCbNqM6GhRsycQuYXCIMa9Wwth1XTU4pPQlmw\",\n                    \"width\": 803\n                }\n            ],\n            \"place_id\": \"ChIJj1EY7ky2m4YRzhKSakP7GEM\",\n            \"plus_code\": {\n                \"compound_code\": \"393C+GV Durango, Mexico\",\n                \"global_code\": \"75PQ393C+GV\"\n            },\n            \"rating\": 4.4,\n            \"reference\": \"ChIJj1EY7ky2m4YRzhKSakP7GEM\",\n            \"scope\": \"GOOGLE\",\n            \"types\": [\n                \"lodging\",\n                \"point_of_interest\",\n                \"establishment\"\n            ],\n            \"user_ratings_total\": 258,\n            \"vicinity\": \"Av. La Cima 500, Misiones Victoria, 3 Misiones, Durango\"\n        },\n        {\n            \"geometry\": {\n                \"location\": {\n                    \"lat\": 24.0307383,\n                    \"lng\": -104.6408085\n                },\n                \"viewport\": {\n                    \"northeast\": {\n                        \"lat\": 24.03224262989272,\n                        \"lng\": -104.6396333201073\n                    },\n                    \"southwest\": {\n                        \"lat\": 24.02954297010727,\n                        \"lng\": -104.6423329798927\n                    }\n                }\n            },\n            \"icon\": \"https://maps.gstatic.com/mapfiles/place_api/icons/lodging-71.png\",\n            \"id\": \"502a2d49e451dc7f74d478b751cfc925697263e5\",\n            \"name\": \"Hotel Los Arcos\",\n            \"opening_hours\": {\n                \"open_now\": true\n            },\n            \"photos\": [\n                {\n                    \"height\": 1152,\n                    \"html_attributions\": [\n                        \"<a href=\\\"https://maps.google.com/maps/contrib/117913599494683526713\\\">Hotel Los Arcos</a>\"\n                    ],\n                    \"photo_reference\": \"CmRaAAAAwLvHnqaBEJqZvYQhnsxFMankN5SQ52D8WIHIjipaHPMZQZ0oV8U8bjYXNlR-RsVG7dOy6W-EtMWEXZwG_QaIaDIIY5jFZK8ZJC4hKv-6ogbl4_zHj_iuRuFf5ThjsboBEhCmPPAIRKXr1TKo-Pf8j5BDGhReAA1p2Sv4GKJFLft8TP__1r93kA\",\n                    \"width\": 2048\n                }\n            ],\n            \"place_id\": \"ChIJUZfF73bIm4YRDtVoIU6asoo\",\n            \"plus_code\": {\n                \"compound_code\": \"29J5+7M Durango, Mexico\",\n                \"global_code\": \"75PQ29J5+7M\"\n            },\n            \"rating\": 4.2,\n            \"reference\": \"ChIJUZfF73bIm4YRDtVoIU6asoo\",\n            \"scope\": \"GOOGLE\",\n            \"types\": [\n                \"lodging\",\n                \"point_of_interest\",\n                \"establishment\"\n            ],\n            \"user_ratings_total\": 318,\n            \"vicinity\": \"Av. Heroico Colegio Militar 2204, Col del Maestro, Durango\"\n        },\n        {\n            \"geometry\": {\n                \"location\": {\n                    \"lat\": 24.035511,\n                    \"lng\": -104.6567535\n                },\n                \"viewport\": {\n                    \"northeast\": {\n                        \"lat\": 24.03694267989272,\n                        \"lng\": -104.6553888701073\n                    },\n                    \"southwest\": {\n                        \"lat\": 24.03424302010728,\n                        \"lng\": -104.6580885298927\n                    }\n                }\n            },\n            \"icon\": \"https://maps.gstatic.com/mapfiles/place_api/icons/lodging-71.png\",\n            \"id\": \"e7f3ecd885dac0c51603a4bf00a9c35a98e3e5a8\",\n            \"name\": \"Hotel Paseo\",\n            \"opening_hours\": {\n                \"open_now\": true\n            },\n            \"photos\": [\n                {\n                    \"height\": 1536,\n                    \"html_attributions\": [\n                        \"<a href=\\\"https://maps.google.com/maps/contrib/109908162795676807585\\\">Hotel Paseo</a>\"\n                    ],\n                    \"photo_reference\": \"CmRaAAAA7y4ieGVqwI3fOfBuOvesMOIE9GxmZTk1TtwM7QwhwgDrmWET3cLK2nvHd3nH93OwlfXiUCxyxqmr1Zq77sVs2d12SPSykP1fkGQiVl6U_PdknHB2ySiHBqgdd2CWE9vmEhCX_JFUVZdGu1ZT7fueFRviGhSHGfF1j8TJDVNn0kBxHPXFf87I0w\",\n                    \"width\": 2048\n                }\n            ],\n            \"place_id\": \"ChIJHWRrR9i3m4YR2voCy-hANEg\",\n            \"plus_code\": {\n                \"compound_code\": \"28PV+67 Durango, Mexico\",\n                \"global_code\": \"75PQ28PV+67\"\n            },\n            \"rating\": 3.9,\n            \"reference\": \"ChIJHWRrR9i3m4YR2voCy-hANEg\",\n            \"scope\": \"GOOGLE\",\n            \"types\": [\n                \"lodging\",\n                \"point_of_interest\",\n                \"establishment\"\n            ],\n            \"user_ratings_total\": 51,\n            \"vicinity\": \"Blvd. Felipe Pescador 813, Ferrocarrilero, Durango\"\n        },\n        {\n            \"geometry\": {\n                \"location\": {\n                    \"lat\": 24.053566,\n                    \"lng\": -104.617867\n                },\n                \"viewport\": {\n                    \"northeast\": {\n                        \"lat\": 24.05494112989272,\n                        \"lng\": -104.6164807701073\n                    },\n                    \"southwest\": {\n                        \"lat\": 24.05224147010728,\n                        \"lng\": -104.6191804298927\n                    }\n                }\n            },\n            \"icon\": \"https://maps.gstatic.com/mapfiles/place_api/icons/lodging-71.png\",\n            \"id\": \"c2f6257e450b41133b922c10e42a10420d5e2dc0\",\n            \"name\": \"City Express Durango\",\n            \"opening_hours\": {\n                \"open_now\": true\n            },\n            \"photos\": [\n                {\n                    \"height\": 2900,\n                    \"html_attributions\": [\n                        \"<a href=\\\"https://maps.google.com/maps/contrib/101727964156258566807\\\">City Express Durango Oficial</a>\"\n                    ],\n                    \"photo_reference\": \"CmRaAAAACwIRy_s7ba4d0Qq5hf5Tzi5fmFObHp5JUnUc1V593FzN0uT3i83Gp5KpDw3KgEg9v-fBYoGyBMsXOwwuqSbVRGOhd9xaBNKA-lL0oO_p09NTGwBfBg9UbRHOeP2wRn-NEhD7FnO2sGaJseLxXw9FZoN2GhSaUlE1BsZJ6ZgF3G5Uensc-7Lwyw\",\n                    \"width\": 4346\n                }\n            ],\n            \"place_id\": \"ChIJqRs-Lt23m4YRQfnh4sdImGc\",\n            \"plus_code\": {\n                \"compound_code\": \"393J+CV Durango, Mexico\",\n                \"global_code\": \"75PQ393J+CV\"\n            },\n            \"rating\": 4.4,\n            \"reference\": \"ChIJqRs-Lt23m4YRQfnh4sdImGc\",\n            \"scope\": \"GOOGLE\",\n            \"types\": [\n                \"lodging\",\n                \"point_of_interest\",\n                \"establishment\"\n            ],\n            \"user_ratings_total\": 1312,\n            \"vicinity\": \"Blvrd Francisco Villa 4021, Cd Industrial, 20 de Noviembre, Durango\"\n        },\n        {\n            \"geometry\": {\n                \"location\": {\n                    \"lat\": 24.0356475,\n                    \"lng\": -104.6518554\n                },\n                \"viewport\": {\n                    \"northeast\": {\n                        \"lat\": 24.03691732989272,\n                        \"lng\": -104.6500890701073\n                    },\n                    \"southwest\": {\n                        \"lat\": 24.03421767010728,\n                        \"lng\": -104.6527887298927\n                    }\n                }\n            },\n            \"icon\": \"https://maps.gstatic.com/mapfiles/place_api/icons/lodging-71.png\",\n            \"id\": \"0b3441783d3c73a3ac5e260f9de7a917f94f7a50\",\n            \"name\": \"Fiesta Inn Durango\",\n            \"opening_hours\": {\n                \"open_now\": true\n            },\n            \"photos\": [\n                {\n                    \"height\": 1080,\n                    \"html_attributions\": [\n                        \"<a href=\\\"https://maps.google.com/maps/contrib/102574889614917256621\\\">Martin Mata</a>\"\n                    ],\n                    \"photo_reference\": \"CmRaAAAA5QKb0tjqsVv8CUKJZevUQ4T53lafTge-DNUDPJ-alVIid3yujAiLFq8G4xSDul1D-Es9li_aLIEMQCUKGKMVg7wah-X60vqm2U2nBgfNbrLeJ01JPnUhZgJc0UZVzxYUEhClHjIEZturejWxp7iHsRZNGhSLV_dknUiNzQayxW_Mh0J36gFnSg\",\n                    \"width\": 1920\n                }\n            ],\n            \"place_id\": \"ChIJ-X7Lrdu3m4YRM9ytpcwdqSk\",\n            \"plus_code\": {\n                \"compound_code\": \"28PX+77 Durango, Mexico\",\n                \"global_code\": \"75PQ28PX+77\"\n            },\n            \"rating\": 4.4,\n            \"reference\": \"ChIJ-X7Lrdu3m4YRM9ytpcwdqSk\",\n            \"scope\": \"GOOGLE\",\n            \"types\": [\n                \"lodging\",\n                \"point_of_interest\",\n                \"establishment\"\n            ],\n            \"user_ratings_total\": 1678,\n            \"vicinity\": \"Avenida, Blvd. Felipe Pescador 1401, La Esperanza, Durango\"\n        },\n        {\n            \"geometry\": {\n                \"location\": {\n                    \"lat\": 24.0362167,\n                    \"lng\": -104.6495226\n                },\n                \"viewport\": {\n                    \"northeast\": {\n                        \"lat\": 24.03758432989272,\n                        \"lng\": -104.6480968201073\n                    },\n                    \"southwest\": {\n                        \"lat\": 24.03488467010728,\n                        \"lng\": -104.6507964798927\n                    }\n                }\n            },\n            \"icon\": \"https://maps.gstatic.com/mapfiles/place_api/icons/lodging-71.png\",\n            \"id\": \"f2ca1c31729891ee64da0867531a5f6d179c1116\",\n            \"name\": \"One Durango\",\n            \"opening_hours\": {\n                \"open_now\": true\n            },\n            \"photos\": [\n                {\n                    \"height\": 4608,\n                    \"html_attributions\": [\n                        \"<a href=\\\"https://maps.google.com/maps/contrib/111453436843059363147\\\">Alex D</a>\"\n                    ],\n                    \"photo_reference\": \"CmRaAAAAMbsH4OQjtMLMwst3GTdRCBzPqVypAvmckS_BDnc6MkMYpqLvAIPmGqDWbQxDVu2pTZ6uCqstUC0vh-8ods_zLZqHIU3d1kBc2_tFqlo-pwAxavCIaPTcJaQ6vzNouBa8EhDnM27dWdnJfCDfSpOgRRuiGhQqsN5Y_TLFZnhFvzT-neKU-jYuJg\",\n                    \"width\": 3456\n                }\n            ],\n            \"place_id\": \"ChIJH1e5Gdu3m4YRBdB4sui4Yz8\",\n            \"plus_code\": {\n                \"compound_code\": \"29P2+F5 Durango, Mexico\",\n                \"global_code\": \"75PQ29P2+F5\"\n            },\n            \"rating\": 4.3,\n            \"reference\": \"ChIJH1e5Gdu3m4YRBdB4sui4Yz8\",\n            \"scope\": \"GOOGLE\",\n            \"types\": [\n                \"lodging\",\n                \"point_of_interest\",\n                \"establishment\"\n            ],\n            \"user_ratings_total\": 1753,\n            \"vicinity\": \"Av. Tecnol\\u00f3gico 99, Zona Sin Asignaci\\u00f3n de Nombre de Colonia, Durango\"\n        },\n        {\n            \"geometry\": {\n                \"location\": {\n                    \"lat\": 24.0359029,\n                    \"lng\": -104.6368172\n                },\n                \"viewport\": {\n                    \"northeast\": {\n                        \"lat\": 24.03735777989272,\n                        \"lng\": -104.6354547201073\n                    },\n                    \"southwest\": {\n                        \"lat\": 24.03465812010728,\n                        \"lng\": -104.6381543798927\n                    }\n                }\n            },\n            \"icon\": \"https://maps.gstatic.com/mapfiles/place_api/icons/lodging-71.png\",\n            \"id\": \"700d7a12ad8dd050a0ad4d210187ff1a07e3aa20\",\n            \"name\": \"Hotel Santa Cruz\",\n            \"photos\": [\n                {\n                    \"height\": 401,\n                    \"html_attributions\": [\n                        \"<a href=\\\"https://maps.google.com/maps/contrib/109539385523904093293\\\">Enrique Quintana</a>\"\n                    ],\n                    \"photo_reference\": \"CmRaAAAAVPk9hbm8DctxhxbFxJsfMyRHuHIej_dJUsc0nvXYiEE7PF2GJ6y2YARyI-aGqPA_pXh45PrULw84qbiqASHvj6SaZlk0eKAc1SWrQUdfg1N3xPKF1ecjaeR3Eg8YyF_WEhAkmf8hC2FzHOq1p0CneTXCGhT09JMJlBER0eV5IVdvjixIwwHgsA\",\n                    \"width\": 720\n                }\n            ],\n            \"place_id\": \"ChIJHcPVdce3m4YRtJURL2g32WQ\",\n            \"plus_code\": {\n                \"compound_code\": \"29P7+97 Durango, Mexico\",\n                \"global_code\": \"75PQ29P7+97\"\n            },\n            \"rating\": 4.2,\n            \"reference\": \"ChIJHcPVdce3m4YRtJURL2g32WQ\",\n            \"scope\": \"GOOGLE\",\n            \"types\": [\n                \"lodging\",\n                \"point_of_interest\",\n                \"establishment\"\n            ],\n            \"user_ratings_total\": 1208,\n            \"vicinity\": \"Blvrd Francisco Villa 100, Las Am\\u00e9ricas, Durango\"\n        },\n        {\n            \"geometry\": {\n                \"location\": {\n                    \"lat\": 24.0248082,\n                    \"lng\": -104.6594988\n                },\n                \"viewport\": {\n                    \"northeast\": {\n                        \"lat\": 24.02627342989272,\n                        \"lng\": -104.6581732701073\n                    },\n                    \"southwest\": {\n                        \"lat\": 24.02357377010728,\n                        \"lng\": -104.6608729298927\n                    }\n                }\n            },\n            \"icon\": \"https://maps.gstatic.com/mapfiles/place_api/icons/lodging-71.png\",\n            \"id\": \"0e78de7317bd1c2c25bcb13aebc51241e484e08f\",\n            \"name\": \"Hotel Milenio Gran Turismo\",\n            \"photos\": [\n                {\n                    \"height\": 784,\n                    \"html_attributions\": [\n                        \"<a href=\\\"https://maps.google.com/maps/contrib/115146960512101477966\\\">Adan Mauricio</a>\"\n                    ],\n                    \"photo_reference\": \"CmRaAAAAaMXyYAeH3uyU39Y2lXUOgK-Vj6S9xpw-5HSl81cQ1TqGhefyMyi_P945HKkYM96LPKD6REDkxur5glKFY6i2099M60IAPQOdB9hKb6Sln0HsYL9oF2uJtjdQmncOwDK6EhCBbdJrTtllOESEbYUzjU8rGhTgJPauwXqMiaTc-3rvnl9LqMMLNQ\",\n                    \"width\": 1103\n                }\n            ],\n            \"place_id\": \"ChIJsW6Y9x_Im4YRw822aISdBJc\",\n            \"plus_code\": {\n                \"compound_code\": \"28FR+W6 Durango, Mexico\",\n                \"global_code\": \"75PQ28FR+W6\"\n            },\n            \"rating\": 4.3,\n            \"reference\": \"ChIJsW6Y9x_Im4YRw822aISdBJc\",\n            \"scope\": \"GOOGLE\",\n            \"types\": [\n                \"lodging\",\n                \"point_of_interest\",\n                \"establishment\"\n            ],\n            \"user_ratings_total\": 284,\n            \"vicinity\": \"Calle 5 de Febrero 420 Oriente, Zona Centro, Durango\"\n        }\n    ],\n    \"status\": \"OK\"\n}\n"
    },
    {
     "output_type": "execute_result",
     "data": {
      "text/plain": "                City Country    Lat     Lng  \\\n0          mahebourg      MU -20.41   57.70   \n1             atuona      PF  -9.80 -139.03   \n2       constitucion      MX  23.99 -104.67   \n3             albany      US  42.65  -73.75   \n4    bambous virieux      MU -20.34   57.76   \n..               ...     ...    ...     ...   \n151           hirara      JP  24.80  125.28   \n152           marzuq      YE  14.40   46.47   \n153            matam      SN  15.66  -13.26   \n154           yabrud      SY  33.97   36.66   \n155          paraiso      MX  24.01 -104.61   \n\n                               Hotel Name  \n0                   Preskil Island Resort  \n1             Hôtel Hiva Oa Hanakee Lodge  \n2                        Hotel Gobernador  \n3    Hampton Inn & Suites Albany-Downtown  \n4                       La Hacienda Hotel  \n..                                    ...  \n151                           HOTEL LOCUS  \n152                                        \n153                        Hotel de Matam  \n154                                        \n155         Hampton Inn by Hilton Durango  \n\n[156 rows x 5 columns]",
      "text/html": "<div>\n<style scoped>\n    .dataframe tbody tr th:only-of-type {\n        vertical-align: middle;\n    }\n\n    .dataframe tbody tr th {\n        vertical-align: top;\n    }\n\n    .dataframe thead th {\n        text-align: right;\n    }\n</style>\n<table border=\"1\" class=\"dataframe\">\n  <thead>\n    <tr style=\"text-align: right;\">\n      <th></th>\n      <th>City</th>\n      <th>Country</th>\n      <th>Lat</th>\n      <th>Lng</th>\n      <th>Hotel Name</th>\n    </tr>\n  </thead>\n  <tbody>\n    <tr>\n      <th>0</th>\n      <td>mahebourg</td>\n      <td>MU</td>\n      <td>-20.41</td>\n      <td>57.70</td>\n      <td>Preskil Island Resort</td>\n    </tr>\n    <tr>\n      <th>1</th>\n      <td>atuona</td>\n      <td>PF</td>\n      <td>-9.80</td>\n      <td>-139.03</td>\n      <td>Hôtel Hiva Oa Hanakee Lodge</td>\n    </tr>\n    <tr>\n      <th>2</th>\n      <td>constitucion</td>\n      <td>MX</td>\n      <td>23.99</td>\n      <td>-104.67</td>\n      <td>Hotel Gobernador</td>\n    </tr>\n    <tr>\n      <th>3</th>\n      <td>albany</td>\n      <td>US</td>\n      <td>42.65</td>\n      <td>-73.75</td>\n      <td>Hampton Inn &amp; Suites Albany-Downtown</td>\n    </tr>\n    <tr>\n      <th>4</th>\n      <td>bambous virieux</td>\n      <td>MU</td>\n      <td>-20.34</td>\n      <td>57.76</td>\n      <td>La Hacienda Hotel</td>\n    </tr>\n    <tr>\n      <th>...</th>\n      <td>...</td>\n      <td>...</td>\n      <td>...</td>\n      <td>...</td>\n      <td>...</td>\n    </tr>\n    <tr>\n      <th>151</th>\n      <td>hirara</td>\n      <td>JP</td>\n      <td>24.80</td>\n      <td>125.28</td>\n      <td>HOTEL LOCUS</td>\n    </tr>\n    <tr>\n      <th>152</th>\n      <td>marzuq</td>\n      <td>YE</td>\n      <td>14.40</td>\n      <td>46.47</td>\n      <td></td>\n    </tr>\n    <tr>\n      <th>153</th>\n      <td>matam</td>\n      <td>SN</td>\n      <td>15.66</td>\n      <td>-13.26</td>\n      <td>Hotel de Matam</td>\n    </tr>\n    <tr>\n      <th>154</th>\n      <td>yabrud</td>\n      <td>SY</td>\n      <td>33.97</td>\n      <td>36.66</td>\n      <td></td>\n    </tr>\n    <tr>\n      <th>155</th>\n      <td>paraiso</td>\n      <td>MX</td>\n      <td>24.01</td>\n      <td>-104.61</td>\n      <td>Hampton Inn by Hilton Durango</td>\n    </tr>\n  </tbody>\n</table>\n<p>156 rows × 5 columns</p>\n</div>"
     },
     "metadata": {},
     "execution_count": 175
    }
   ],
   "source": [
    "# Set search parameters\n",
    "params = {\n",
    "    \"radius\": 5000,\n",
    "    \"types\": \"hotel\",\n",
    "    \"keyword\": \"hotels\",\n",
    "    \"key\": g_key\n",
    "}\n",
    "\n",
    "# Use lat and lng to find the hotels\n",
    "for index, row in hotel_df.iterrows():\n",
    "    lat = row[\"Lat\"]\n",
    "    lng = row[\"Lng\"]\n",
    "    \n",
    "# Change location every time but keep parameters\n",
    "    params[\"location\"] = f\"{lat},{lng}\"\n",
    "    \n",
    "# Search for hotels using lat and lng\n",
    "    base_url = \"https://maps.googleapis.com/maps/api/place/nearbysearch/json\"\n",
    "    \n",
    "# Print url\n",
    "    hotel_name = requests.get(base_url, params=params)\n",
    "    \n",
    "# Convert to json file\n",
    "    hotel_name = hotel_name.json()\n",
    "    print(json.dumps(hotel_name, indent=4, sort_keys=True))\n",
    "    \n",
    "# Have missing values be skipped when an error is encountered\n",
    "    try:\n",
    "        hotel_df.loc[index, \"Hotel Name\"] = hotel_name[\"results\"][0][\"name\"]\n",
    "    except (KeyError, IndexError):\n",
    "        print(\"Missing field/result... skipping.\")\n",
    "\n",
    "hotel_df"
   ]
  },
  {
   "cell_type": "code",
   "execution_count": 176,
   "metadata": {},
   "outputs": [],
   "source": [
    "# NOTE: Do not change any of the code in this cell\n",
    "\n",
    "# Using the template add the hotel marks to the heatmap\n",
    "info_box_template = \"\"\"\n",
    "<dl>\n",
    "<dt>Name</dt><dd>{Hotel Name}</dd>\n",
    "<dt>City</dt><dd>{City}</dd>\n",
    "<dt>Country</dt><dd>{Country}</dd>\n",
    "</dl>\n",
    "\"\"\"\n",
    "# Store the DataFrame Row\n",
    "# NOTE: be sure to update with your DataFrame name\n",
    "hotel_info = [info_box_template.format(**row) for index, row in hotel_df.iterrows()]\n",
    "locations = hotel_df[[\"Lat\", \"Lng\"]]"
   ]
  },
  {
   "cell_type": "code",
   "execution_count": 177,
   "metadata": {},
   "outputs": [
    {
     "output_type": "display_data",
     "data": {
      "text/plain": "Figure(layout=FigureLayout(height='420px'))",
      "application/vnd.jupyter.widget-view+json": {
       "version_major": 2,
       "version_minor": 0,
       "model_id": "0ed51b62554a4ad48aefdb5c09f6310b"
      }
     },
     "metadata": {}
    },
    {
     "output_type": "display_data",
     "data": {
      "text/plain": "<Figure size 432x288 with 0 Axes>"
     },
     "metadata": {}
    }
   ],
   "source": [
    "# Add marker layer ontop of heat map\n",
    "markers = gmaps.marker_layer(locations, info_box_content = hotel_info)\n",
    "fig.add_layer(markers)\n",
    "\n",
    "# Display Map and save to png\n",
    "fig"
   ]
  }
 ],
 "metadata": {
  "kernelspec": {
   "display_name": "Python 3",
   "language": "python",
   "name": "python3"
  },
  "language_info": {
   "codemirror_mode": {
    "name": "ipython",
    "version": 3
   },
   "file_extension": ".py",
   "mimetype": "text/x-python",
   "name": "python",
   "nbconvert_exporter": "python",
   "pygments_lexer": "ipython3",
   "version": "3.7.7-final"
  },
  "latex_envs": {
   "LaTeX_envs_menu_present": true,
   "autoclose": false,
   "autocomplete": true,
   "bibliofile": "biblio.bib",
   "cite_by": "apalike",
   "current_citInitial": 1,
   "eqLabelWithNumbers": true,
   "eqNumInitial": 1,
   "hotkeys": {
    "equation": "Ctrl-E",
    "itemize": "Ctrl-I"
   },
   "labels_anchors": false,
   "latex_user_defs": false,
   "report_style_numbering": false,
   "user_envs_cfg": false
  }
 },
 "nbformat": 4,
 "nbformat_minor": 2
}